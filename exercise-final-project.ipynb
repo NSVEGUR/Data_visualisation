{
 "cells": [
  {
   "cell_type": "markdown",
   "id": "3b56ed8c",
   "metadata": {
    "papermill": {
     "duration": 0.005348,
     "end_time": "2022-10-17T11:59:29.180851",
     "exception": false,
     "start_time": "2022-10-17T11:59:29.175503",
     "status": "completed"
    },
    "tags": []
   },
   "source": [
    "**This notebook is an exercise in the [Data Visualization](https://www.kaggle.com/learn/data-visualization) course.  You can reference the tutorial at [this link](https://www.kaggle.com/alexisbcook/final-project).**\n",
    "\n",
    "---\n"
   ]
  },
  {
   "cell_type": "markdown",
   "id": "c3772d6a",
   "metadata": {
    "papermill": {
     "duration": 0.003864,
     "end_time": "2022-10-17T11:59:29.189156",
     "exception": false,
     "start_time": "2022-10-17T11:59:29.185292",
     "status": "completed"
    },
    "tags": []
   },
   "source": [
    "Now it's time for you to demonstrate your new skills with a project of your own!\n",
    "\n",
    "In this exercise, you will work with a dataset of your choosing.  Once you've selected a dataset, you'll design and create your own plot to tell interesting stories behind the data!\n",
    "\n",
    "## Setup\n",
    "\n",
    "Run the next cell to import and configure the Python libraries that you need to complete the exercise."
   ]
  },
  {
   "cell_type": "code",
   "execution_count": 1,
   "id": "668b57e3",
   "metadata": {
    "execution": {
     "iopub.execute_input": "2022-10-17T11:59:29.200333Z",
     "iopub.status.busy": "2022-10-17T11:59:29.199175Z",
     "iopub.status.idle": "2022-10-17T11:59:30.459105Z",
     "shell.execute_reply": "2022-10-17T11:59:30.457624Z"
    },
    "papermill": {
     "duration": 1.269019,
     "end_time": "2022-10-17T11:59:30.462388",
     "exception": false,
     "start_time": "2022-10-17T11:59:29.193369",
     "status": "completed"
    },
    "tags": []
   },
   "outputs": [
    {
     "name": "stdout",
     "output_type": "stream",
     "text": [
      "Setup Complete\n"
     ]
    }
   ],
   "source": [
    "import pandas as pd\n",
    "pd.plotting.register_matplotlib_converters()\n",
    "import matplotlib.pyplot as plt\n",
    "%matplotlib inline\n",
    "import seaborn as sns\n",
    "print(\"Setup Complete\")"
   ]
  },
  {
   "cell_type": "markdown",
   "id": "31fbe345",
   "metadata": {
    "papermill": {
     "duration": 0.004039,
     "end_time": "2022-10-17T11:59:30.470953",
     "exception": false,
     "start_time": "2022-10-17T11:59:30.466914",
     "status": "completed"
    },
    "tags": []
   },
   "source": [
    "The questions below will give you feedback on your work. Run the following cell to set up the feedback system."
   ]
  },
  {
   "cell_type": "code",
   "execution_count": 2,
   "id": "69cfe3dc",
   "metadata": {
    "execution": {
     "iopub.execute_input": "2022-10-17T11:59:30.481405Z",
     "iopub.status.busy": "2022-10-17T11:59:30.480981Z",
     "iopub.status.idle": "2022-10-17T11:59:30.534617Z",
     "shell.execute_reply": "2022-10-17T11:59:30.532827Z"
    },
    "papermill": {
     "duration": 0.063469,
     "end_time": "2022-10-17T11:59:30.538862",
     "exception": false,
     "start_time": "2022-10-17T11:59:30.475393",
     "status": "completed"
    },
    "tags": []
   },
   "outputs": [
    {
     "name": "stdout",
     "output_type": "stream",
     "text": [
      "Setup Complete\n"
     ]
    }
   ],
   "source": [
    "# Set up code checking\n",
    "from learntools.core import binder\n",
    "binder.bind(globals())\n",
    "from learntools.data_viz_to_coder.ex7 import *\n",
    "print(\"Setup Complete\")"
   ]
  },
  {
   "cell_type": "markdown",
   "id": "162086e7",
   "metadata": {
    "papermill": {
     "duration": 0.004136,
     "end_time": "2022-10-17T11:59:30.547786",
     "exception": false,
     "start_time": "2022-10-17T11:59:30.543650",
     "status": "completed"
    },
    "tags": []
   },
   "source": [
    "## Step 1: Attach a dataset to the notebook\n",
    "\n",
    "Begin by selecting a CSV dataset from [Kaggle Datasets](https://www.kaggle.com/datasets).  If you're unsure how to do this, please revisit the instructions in the previous tutorial.\n",
    "\n",
    "Once you have selected a dataset, click on the **[+ Add data]** option in the top right corner.  This will generate a pop-up window that you can use to search for your chosen dataset.  \n",
    "\n",
    "![ex6_search_dataset](https://i.imgur.com/cIIWPUS.png)\n",
    "\n",
    "Once you have found the dataset, click on the **[Add]** button to attach it to the notebook.  You can check that it was successful by looking at the **Data** dropdown menu to the right of the notebook -- look for an **input** folder containing a subfolder that matches the name of the dataset.\n",
    "\n",
    "<center>\n",
    "<img src=\"https://i.imgur.com/nMYc1Nu.png\" width=30%><br/>\n",
    "</center>\n",
    "\n",
    "You can click on the carat to the left of the name of the dataset to double-check that it contains a CSV file.  For instance, the image below shows that the example dataset contains two CSV files: (1) **dc-wikia-data.csv**, and (2) **marvel-wikia-data.csv**.\n",
    "\n",
    "<center>\n",
    "<img src=\"https://i.imgur.com/B4sJkVA.png\" width=30%><br/>\n",
    "</center>\n",
    "\n",
    "Once you've uploaded a dataset with a CSV file, run the code cell below **without changes** to receive credit for your work!"
   ]
  },
  {
   "cell_type": "code",
   "execution_count": 3,
   "id": "c66a8ebd",
   "metadata": {
    "execution": {
     "iopub.execute_input": "2022-10-17T11:59:30.558944Z",
     "iopub.status.busy": "2022-10-17T11:59:30.558527Z",
     "iopub.status.idle": "2022-10-17T11:59:30.577580Z",
     "shell.execute_reply": "2022-10-17T11:59:30.576212Z"
    },
    "papermill": {
     "duration": 0.027631,
     "end_time": "2022-10-17T11:59:30.580202",
     "exception": false,
     "start_time": "2022-10-17T11:59:30.552571",
     "status": "completed"
    },
    "tags": []
   },
   "outputs": [
    {
     "data": {
      "application/javascript": [
       "parent.postMessage({\"jupyterEvent\": \"custom.exercise_interaction\", \"data\": {\"outcomeType\": 1, \"valueTowardsCompletion\": 0.25, \"interactionType\": 1, \"questionType\": 2, \"questionId\": \"1_AttachData\", \"learnToolsVersion\": \"0.3.4\", \"failureMessage\": \"\", \"exceptionClass\": \"\", \"trace\": \"\"}}, \"*\")"
      ],
      "text/plain": [
       "<IPython.core.display.Javascript object>"
      ]
     },
     "metadata": {},
     "output_type": "display_data"
    },
    {
     "data": {
      "text/markdown": [
       "<span style=\"color:#33cc33\">Correct:</span> \n",
       "\n"
      ],
      "text/plain": [
       "Correct: \n"
      ]
     },
     "metadata": {},
     "output_type": "display_data"
    }
   ],
   "source": [
    "# Check for a dataset with a CSV file\n",
    "step_1.check()"
   ]
  },
  {
   "cell_type": "markdown",
   "id": "8aaee1dd",
   "metadata": {
    "execution": {
     "iopub.execute_input": "2022-10-17T11:49:58.234108Z",
     "iopub.status.busy": "2022-10-17T11:49:58.233760Z",
     "iopub.status.idle": "2022-10-17T11:49:58.248537Z",
     "shell.execute_reply": "2022-10-17T11:49:58.246432Z",
     "shell.execute_reply.started": "2022-10-17T11:49:58.234066Z"
    },
    "papermill": {
     "duration": 0.004528,
     "end_time": "2022-10-17T11:59:30.589863",
     "exception": false,
     "start_time": "2022-10-17T11:59:30.585335",
     "status": "completed"
    },
    "tags": []
   },
   "source": [
    "## Step 2: Specify the filepath\n",
    "\n",
    "Now that the dataset is attached to the notebook, you can find its filepath.  To do this, begin by clicking on the CSV file you'd like to use.  This will open the CSV file in a tab below the notebook.  You can find the filepath towards the top of this new tab.  \n",
    "\n",
    "![ex6_filepath](https://i.imgur.com/fgXQV47.png)\n",
    "\n",
    "After you find the filepath corresponding to your dataset, fill it in as the value for `my_filepath` in the code cell below, and run the code cell to check that you've provided a valid filepath.  For instance, in the case of this example dataset, we would set\n",
    "```\n",
    "my_filepath = \"../input/fivethirtyeight-comic-characters-dataset/dc-wikia-data.csv\"\n",
    "```  \n",
    "Note that **you must enclose the filepath in quotation marks**; otherwise, the code will return an error.\n",
    "\n",
    "Once you've entered the filepath, you can close the tab below the notebook by clicking on the **[X]** at the top of the tab."
   ]
  },
  {
   "cell_type": "code",
   "execution_count": 4,
   "id": "c7f3fb47",
   "metadata": {
    "execution": {
     "iopub.execute_input": "2022-10-17T11:59:30.601855Z",
     "iopub.status.busy": "2022-10-17T11:59:30.601434Z",
     "iopub.status.idle": "2022-10-17T11:59:30.612345Z",
     "shell.execute_reply": "2022-10-17T11:59:30.611205Z"
    },
    "papermill": {
     "duration": 0.020206,
     "end_time": "2022-10-17T11:59:30.615186",
     "exception": false,
     "start_time": "2022-10-17T11:59:30.594980",
     "status": "completed"
    },
    "tags": []
   },
   "outputs": [
    {
     "data": {
      "application/javascript": [
       "parent.postMessage({\"jupyterEvent\": \"custom.exercise_interaction\", \"data\": {\"outcomeType\": 1, \"valueTowardsCompletion\": 0.25, \"interactionType\": 1, \"questionType\": 2, \"questionId\": \"2_Filepath\", \"learnToolsVersion\": \"0.3.4\", \"failureMessage\": \"\", \"exceptionClass\": \"\", \"trace\": \"\"}}, \"*\")"
      ],
      "text/plain": [
       "<IPython.core.display.Javascript object>"
      ]
     },
     "metadata": {},
     "output_type": "display_data"
    },
    {
     "data": {
      "text/markdown": [
       "<span style=\"color:#33cc33\">Correct:</span> \n",
       "\n"
      ],
      "text/plain": [
       "Correct: \n"
      ]
     },
     "metadata": {},
     "output_type": "display_data"
    }
   ],
   "source": [
    "# Fill in the line below: Specify the path of the CSV file to read\n",
    "my_filepath = '../input/fivethirtyeight-comic-characters-dataset/marvel-wikia-data.csv'\n",
    "\n",
    "# Check for a valid filepath to a CSV file in a dataset\n",
    "step_2.check()"
   ]
  },
  {
   "cell_type": "markdown",
   "id": "5448e490",
   "metadata": {
    "papermill": {
     "duration": 0.004809,
     "end_time": "2022-10-17T11:59:30.625394",
     "exception": false,
     "start_time": "2022-10-17T11:59:30.620585",
     "status": "completed"
    },
    "tags": []
   },
   "source": [
    "## Step 3: Load the data\n",
    "\n",
    "Use the next code cell to load your data file into `my_data`.  Use the filepath that you specified in the previous step."
   ]
  },
  {
   "cell_type": "code",
   "execution_count": 5,
   "id": "7f856064",
   "metadata": {
    "execution": {
     "iopub.execute_input": "2022-10-17T11:59:30.637624Z",
     "iopub.status.busy": "2022-10-17T11:59:30.637160Z",
     "iopub.status.idle": "2022-10-17T11:59:30.780615Z",
     "shell.execute_reply": "2022-10-17T11:59:30.779443Z"
    },
    "papermill": {
     "duration": 0.152531,
     "end_time": "2022-10-17T11:59:30.783061",
     "exception": false,
     "start_time": "2022-10-17T11:59:30.630530",
     "status": "completed"
    },
    "tags": []
   },
   "outputs": [
    {
     "data": {
      "application/javascript": [
       "parent.postMessage({\"jupyterEvent\": \"custom.exercise_interaction\", \"data\": {\"outcomeType\": 1, \"valueTowardsCompletion\": 0.25, \"interactionType\": 1, \"questionType\": 2, \"questionId\": \"3_LoadData\", \"learnToolsVersion\": \"0.3.4\", \"failureMessage\": \"\", \"exceptionClass\": \"\", \"trace\": \"\"}}, \"*\")"
      ],
      "text/plain": [
       "<IPython.core.display.Javascript object>"
      ]
     },
     "metadata": {},
     "output_type": "display_data"
    },
    {
     "data": {
      "text/markdown": [
       "<span style=\"color:#33cc33\">Correct:</span> \n",
       "\n"
      ],
      "text/plain": [
       "Correct: \n"
      ]
     },
     "metadata": {},
     "output_type": "display_data"
    }
   ],
   "source": [
    "# Fill in the line below: Read the file into a variable my_data\n",
    "my_data = pd.read_csv(my_filepath, index_col=\"page_id\")\n",
    "\n",
    "# Check that a dataset has been uploaded into my_data\n",
    "step_3.check()"
   ]
  },
  {
   "cell_type": "markdown",
   "id": "5d92c97c",
   "metadata": {
    "papermill": {
     "duration": 0.004941,
     "end_time": "2022-10-17T11:59:30.793288",
     "exception": false,
     "start_time": "2022-10-17T11:59:30.788347",
     "status": "completed"
    },
    "tags": []
   },
   "source": [
    "**_After the code cell above is marked correct_**, run the code cell below without changes to view the first five rows of the data."
   ]
  },
  {
   "cell_type": "code",
   "execution_count": 6,
   "id": "7debbde5",
   "metadata": {
    "execution": {
     "iopub.execute_input": "2022-10-17T11:59:30.805979Z",
     "iopub.status.busy": "2022-10-17T11:59:30.804834Z",
     "iopub.status.idle": "2022-10-17T11:59:30.830601Z",
     "shell.execute_reply": "2022-10-17T11:59:30.829257Z"
    },
    "papermill": {
     "duration": 0.035028,
     "end_time": "2022-10-17T11:59:30.833448",
     "exception": false,
     "start_time": "2022-10-17T11:59:30.798420",
     "status": "completed"
    },
    "tags": []
   },
   "outputs": [
    {
     "data": {
      "text/html": [
       "<div>\n",
       "<style scoped>\n",
       "    .dataframe tbody tr th:only-of-type {\n",
       "        vertical-align: middle;\n",
       "    }\n",
       "\n",
       "    .dataframe tbody tr th {\n",
       "        vertical-align: top;\n",
       "    }\n",
       "\n",
       "    .dataframe thead th {\n",
       "        text-align: right;\n",
       "    }\n",
       "</style>\n",
       "<table border=\"1\" class=\"dataframe\">\n",
       "  <thead>\n",
       "    <tr style=\"text-align: right;\">\n",
       "      <th></th>\n",
       "      <th>name</th>\n",
       "      <th>urlslug</th>\n",
       "      <th>ID</th>\n",
       "      <th>ALIGN</th>\n",
       "      <th>EYE</th>\n",
       "      <th>HAIR</th>\n",
       "      <th>SEX</th>\n",
       "      <th>GSM</th>\n",
       "      <th>ALIVE</th>\n",
       "      <th>APPEARANCES</th>\n",
       "      <th>FIRST APPEARANCE</th>\n",
       "      <th>Year</th>\n",
       "    </tr>\n",
       "    <tr>\n",
       "      <th>page_id</th>\n",
       "      <th></th>\n",
       "      <th></th>\n",
       "      <th></th>\n",
       "      <th></th>\n",
       "      <th></th>\n",
       "      <th></th>\n",
       "      <th></th>\n",
       "      <th></th>\n",
       "      <th></th>\n",
       "      <th></th>\n",
       "      <th></th>\n",
       "      <th></th>\n",
       "    </tr>\n",
       "  </thead>\n",
       "  <tbody>\n",
       "    <tr>\n",
       "      <th>1678</th>\n",
       "      <td>Spider-Man (Peter Parker)</td>\n",
       "      <td>\\/Spider-Man_(Peter_Parker)</td>\n",
       "      <td>Secret Identity</td>\n",
       "      <td>Good Characters</td>\n",
       "      <td>Hazel Eyes</td>\n",
       "      <td>Brown Hair</td>\n",
       "      <td>Male Characters</td>\n",
       "      <td>NaN</td>\n",
       "      <td>Living Characters</td>\n",
       "      <td>4043.0</td>\n",
       "      <td>Aug-62</td>\n",
       "      <td>1962.0</td>\n",
       "    </tr>\n",
       "    <tr>\n",
       "      <th>7139</th>\n",
       "      <td>Captain America (Steven Rogers)</td>\n",
       "      <td>\\/Captain_America_(Steven_Rogers)</td>\n",
       "      <td>Public Identity</td>\n",
       "      <td>Good Characters</td>\n",
       "      <td>Blue Eyes</td>\n",
       "      <td>White Hair</td>\n",
       "      <td>Male Characters</td>\n",
       "      <td>NaN</td>\n",
       "      <td>Living Characters</td>\n",
       "      <td>3360.0</td>\n",
       "      <td>Mar-41</td>\n",
       "      <td>1941.0</td>\n",
       "    </tr>\n",
       "    <tr>\n",
       "      <th>64786</th>\n",
       "      <td>Wolverine (James \\\"Logan\\\" Howlett)</td>\n",
       "      <td>\\/Wolverine_(James_%22Logan%22_Howlett)</td>\n",
       "      <td>Public Identity</td>\n",
       "      <td>Neutral Characters</td>\n",
       "      <td>Blue Eyes</td>\n",
       "      <td>Black Hair</td>\n",
       "      <td>Male Characters</td>\n",
       "      <td>NaN</td>\n",
       "      <td>Living Characters</td>\n",
       "      <td>3061.0</td>\n",
       "      <td>Oct-74</td>\n",
       "      <td>1974.0</td>\n",
       "    </tr>\n",
       "    <tr>\n",
       "      <th>1868</th>\n",
       "      <td>Iron Man (Anthony \\\"Tony\\\" Stark)</td>\n",
       "      <td>\\/Iron_Man_(Anthony_%22Tony%22_Stark)</td>\n",
       "      <td>Public Identity</td>\n",
       "      <td>Good Characters</td>\n",
       "      <td>Blue Eyes</td>\n",
       "      <td>Black Hair</td>\n",
       "      <td>Male Characters</td>\n",
       "      <td>NaN</td>\n",
       "      <td>Living Characters</td>\n",
       "      <td>2961.0</td>\n",
       "      <td>Mar-63</td>\n",
       "      <td>1963.0</td>\n",
       "    </tr>\n",
       "    <tr>\n",
       "      <th>2460</th>\n",
       "      <td>Thor (Thor Odinson)</td>\n",
       "      <td>\\/Thor_(Thor_Odinson)</td>\n",
       "      <td>No Dual Identity</td>\n",
       "      <td>Good Characters</td>\n",
       "      <td>Blue Eyes</td>\n",
       "      <td>Blond Hair</td>\n",
       "      <td>Male Characters</td>\n",
       "      <td>NaN</td>\n",
       "      <td>Living Characters</td>\n",
       "      <td>2258.0</td>\n",
       "      <td>Nov-50</td>\n",
       "      <td>1950.0</td>\n",
       "    </tr>\n",
       "  </tbody>\n",
       "</table>\n",
       "</div>"
      ],
      "text/plain": [
       "                                        name  \\\n",
       "page_id                                        \n",
       "1678               Spider-Man (Peter Parker)   \n",
       "7139         Captain America (Steven Rogers)   \n",
       "64786    Wolverine (James \\\"Logan\\\" Howlett)   \n",
       "1868       Iron Man (Anthony \\\"Tony\\\" Stark)   \n",
       "2460                     Thor (Thor Odinson)   \n",
       "\n",
       "                                         urlslug                ID  \\\n",
       "page_id                                                              \n",
       "1678                 \\/Spider-Man_(Peter_Parker)   Secret Identity   \n",
       "7139           \\/Captain_America_(Steven_Rogers)   Public Identity   \n",
       "64786    \\/Wolverine_(James_%22Logan%22_Howlett)   Public Identity   \n",
       "1868       \\/Iron_Man_(Anthony_%22Tony%22_Stark)   Public Identity   \n",
       "2460                       \\/Thor_(Thor_Odinson)  No Dual Identity   \n",
       "\n",
       "                      ALIGN         EYE        HAIR              SEX  GSM  \\\n",
       "page_id                                                                     \n",
       "1678        Good Characters  Hazel Eyes  Brown Hair  Male Characters  NaN   \n",
       "7139        Good Characters   Blue Eyes  White Hair  Male Characters  NaN   \n",
       "64786    Neutral Characters   Blue Eyes  Black Hair  Male Characters  NaN   \n",
       "1868        Good Characters   Blue Eyes  Black Hair  Male Characters  NaN   \n",
       "2460        Good Characters   Blue Eyes  Blond Hair  Male Characters  NaN   \n",
       "\n",
       "                     ALIVE  APPEARANCES FIRST APPEARANCE    Year  \n",
       "page_id                                                           \n",
       "1678     Living Characters       4043.0           Aug-62  1962.0  \n",
       "7139     Living Characters       3360.0           Mar-41  1941.0  \n",
       "64786    Living Characters       3061.0           Oct-74  1974.0  \n",
       "1868     Living Characters       2961.0           Mar-63  1963.0  \n",
       "2460     Living Characters       2258.0           Nov-50  1950.0  "
      ]
     },
     "execution_count": 6,
     "metadata": {},
     "output_type": "execute_result"
    }
   ],
   "source": [
    "# Print the first five rows of the data\n",
    "my_data.head()"
   ]
  },
  {
   "cell_type": "markdown",
   "id": "96f39f64",
   "metadata": {
    "papermill": {
     "duration": 0.005679,
     "end_time": "2022-10-17T11:59:30.845238",
     "exception": false,
     "start_time": "2022-10-17T11:59:30.839559",
     "status": "completed"
    },
    "tags": []
   },
   "source": [
    "## Step 4: Visualize the data\n",
    "\n",
    "Use the next code cell to create a figure that tells a story behind your dataset.  You can use any chart type (_line chart, bar chart, heatmap, etc_) of your choosing!"
   ]
  },
  {
   "cell_type": "code",
   "execution_count": 7,
   "id": "24d2a018",
   "metadata": {
    "execution": {
     "iopub.execute_input": "2022-10-17T11:59:30.860175Z",
     "iopub.status.busy": "2022-10-17T11:59:30.859764Z",
     "iopub.status.idle": "2022-10-17T11:59:32.280177Z",
     "shell.execute_reply": "2022-10-17T11:59:32.278822Z"
    },
    "papermill": {
     "duration": 1.43178,
     "end_time": "2022-10-17T11:59:32.283003",
     "exception": false,
     "start_time": "2022-10-17T11:59:30.851223",
     "status": "completed"
    },
    "tags": []
   },
   "outputs": [
    {
     "data": {
      "application/javascript": [
       "parent.postMessage({\"jupyterEvent\": \"custom.exercise_interaction\", \"data\": {\"outcomeType\": 1, \"valueTowardsCompletion\": 0.25, \"interactionType\": 1, \"questionType\": 2, \"questionId\": \"4_CreatePlot\", \"learnToolsVersion\": \"0.3.4\", \"failureMessage\": \"\", \"exceptionClass\": \"\", \"trace\": \"\"}}, \"*\")"
      ],
      "text/plain": [
       "<IPython.core.display.Javascript object>"
      ]
     },
     "metadata": {},
     "output_type": "display_data"
    },
    {
     "data": {
      "text/markdown": [
       "<span style=\"color:#33cc33\">Correct:</span> \n",
       "\n"
      ],
      "text/plain": [
       "Correct: \n"
      ]
     },
     "metadata": {},
     "output_type": "display_data"
    },
    {
     "data": {
      "image/png": "[encoded data removed]",
      "text/plain": [
       "<Figure size 432x288 with 1 Axes>"
      ]
     },
     "metadata": {
      "needs_background": "light"
     },
     "output_type": "display_data"
    }
   ],
   "source": [
    "# Create a plot\n",
    "sns.lineplot(data=my_data) # Your code here\n",
    "\n",
    "# Check that a figure appears below\n",
    "step_4.check()"
   ]
  },
  {
   "cell_type": "markdown",
   "id": "f66b15ba",
   "metadata": {
    "papermill": {
     "duration": 0.005647,
     "end_time": "2022-10-17T11:59:32.295781",
     "exception": false,
     "start_time": "2022-10-17T11:59:32.290134",
     "status": "completed"
    },
    "tags": []
   },
   "source": [
    "## Keep going\n",
    "\n",
    "Learn how to use your skills after completing the micro-course to create data visualizations in a **[final tutorial](https://www.kaggle.com/alexisbcook/creating-your-own-notebooks)**."
   ]
  },
  {
   "cell_type": "markdown",
   "id": "a57d403b",
   "metadata": {
    "papermill": {
     "duration": 0.006375,
     "end_time": "2022-10-17T11:59:32.308145",
     "exception": false,
     "start_time": "2022-10-17T11:59:32.301770",
     "status": "completed"
    },
    "tags": []
   },
   "source": [
    "---\n",
    "\n",
    "\n",
    "\n",
    "\n",
    "*Have questions or comments? Visit the [course discussion forum](https://www.kaggle.com/learn/data-visualization/discussion) to chat with other learners.*"
   ]
  }
 ],
 "metadata": {
  "kernelspec": {
   "display_name": "Python 3",
   "language": "python",
   "name": "python3"
  },
  "language_info": {
   "codemirror_mode": {
    "name": "ipython",
    "version": 3
   },
   "file_extension": ".py",
   "mimetype": "text/x-python",
   "name": "python",
   "nbconvert_exporter": "python",
   "pygments_lexer": "ipython3",
   "version": "3.7.12"
  },
  "papermill": {
   "default_parameters": {},
   "duration": 14.083509,
   "end_time": "2022-10-17T11:59:33.139025",
   "environment_variables": {},
   "exception": null,
   "input_path": "__notebook__.ipynb",
   "output_path": "__notebook__.ipynb",
   "parameters": {},
   "start_time": "2022-10-17T11:59:19.055516",
   "version": "2.3.4"
  }
 },
 "nbformat": 4,
 "nbformat_minor": 5
}
