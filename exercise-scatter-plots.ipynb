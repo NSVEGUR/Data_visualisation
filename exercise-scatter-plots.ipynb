{
 "cells": [
  {
   "cell_type": "markdown",
   "id": "7babd41e",
   "metadata": {
    "papermill": {
     "duration": 0.007823,
     "end_time": "2022-10-15T17:30:29.264165",
     "exception": false,
     "start_time": "2022-10-15T17:30:29.256342",
     "status": "completed"
    },
    "tags": []
   },
   "source": [
    "**This notebook is an exercise in the [Data Visualization](https://www.kaggle.com/learn/data-visualization) course.  You can reference the tutorial at [this link](https://www.kaggle.com/alexisbcook/scatter-plots).**\n",
    "\n",
    "---\n"
   ]
  },
  {
   "cell_type": "markdown",
   "id": "0984ec8b",
   "metadata": {
    "papermill": {
     "duration": 0.006409,
     "end_time": "2022-10-15T17:30:29.277680",
     "exception": false,
     "start_time": "2022-10-15T17:30:29.271271",
     "status": "completed"
    },
    "tags": []
   },
   "source": [
    "In this exercise, you will use your new knowledge to propose a solution to a real-world scenario.  To succeed, you will need to import data into Python, answer questions using the data, and generate **scatter plots** to understand patterns in the data.\n",
    "\n",
    "## Scenario\n",
    "\n",
    "You work for a major candy producer, and your goal is to write a report that your company can use to guide the design of its next product.  Soon after starting your research, you stumble across this [very interesting dataset](https://fivethirtyeight.com/features/the-ultimate-halloween-candy-power-ranking/) containing results from a fun survey to crowdsource favorite candies.\n",
    "\n",
    "## Setup\n",
    "\n",
    "Run the next cell to import and configure the Python libraries that you need to complete the exercise."
   ]
  },
  {
   "cell_type": "code",
   "execution_count": 1,
   "id": "eab9fab2",
   "metadata": {
    "execution": {
     "iopub.execute_input": "2022-10-15T17:30:29.292382Z",
     "iopub.status.busy": "2022-10-15T17:30:29.291959Z",
     "iopub.status.idle": "2022-10-15T17:30:30.378463Z",
     "shell.execute_reply": "2022-10-15T17:30:30.377063Z"
    },
    "papermill": {
     "duration": 1.096956,
     "end_time": "2022-10-15T17:30:30.381217",
     "exception": false,
     "start_time": "2022-10-15T17:30:29.284261",
     "status": "completed"
    },
    "tags": []
   },
   "outputs": [
    {
     "name": "stdout",
     "output_type": "stream",
     "text": [
      "Setup Complete\n"
     ]
    }
   ],
   "source": [
    "import pandas as pd\n",
    "pd.plotting.register_matplotlib_converters()\n",
    "import matplotlib.pyplot as plt\n",
    "%matplotlib inline\n",
    "import seaborn as sns\n",
    "print(\"Setup Complete\")"
   ]
  },
  {
   "cell_type": "markdown",
   "id": "4f2fe486",
   "metadata": {
    "papermill": {
     "duration": 0.006784,
     "end_time": "2022-10-15T17:30:30.395310",
     "exception": false,
     "start_time": "2022-10-15T17:30:30.388526",
     "status": "completed"
    },
    "tags": []
   },
   "source": [
    "The questions below will give you feedback on your work. Run the following cell to set up our feedback system."
   ]
  },
  {
   "cell_type": "code",
   "execution_count": 2,
   "id": "c09aee98",
   "metadata": {
    "execution": {
     "iopub.execute_input": "2022-10-15T17:30:30.412264Z",
     "iopub.status.busy": "2022-10-15T17:30:30.411926Z",
     "iopub.status.idle": "2022-10-15T17:30:30.498366Z",
     "shell.execute_reply": "2022-10-15T17:30:30.497207Z"
    },
    "papermill": {
     "duration": 0.096838,
     "end_time": "2022-10-15T17:30:30.500093",
     "exception": false,
     "start_time": "2022-10-15T17:30:30.403255",
     "status": "completed"
    },
    "tags": []
   },
   "outputs": [
    {
     "name": "stdout",
     "output_type": "stream",
     "text": [
      "Setup Complete\n"
     ]
    }
   ],
   "source": [
    "# Set up code checking\n",
    "import os\n",
    "if not os.path.exists(\"../input/candy.csv\"):\n",
    "    os.symlink(\"../input/data-for-datavis/candy.csv\", \"../input/candy.csv\") \n",
    "from learntools.core import binder\n",
    "binder.bind(globals())\n",
    "from learntools.data_viz_to_coder.ex4 import *\n",
    "print(\"Setup Complete\")"
   ]
  },
  {
   "cell_type": "markdown",
   "id": "75480f97",
   "metadata": {
    "papermill": {
     "duration": 0.006596,
     "end_time": "2022-10-15T17:30:30.514912",
     "exception": false,
     "start_time": "2022-10-15T17:30:30.508316",
     "status": "completed"
    },
    "tags": []
   },
   "source": [
    "## Step 1: Load the Data\n",
    "\n",
    "Read the candy data file into `candy_data`.  Use the `\"id\"` column to label the rows."
   ]
  },
  {
   "cell_type": "code",
   "execution_count": 3,
   "id": "29affc6e",
   "metadata": {
    "execution": {
     "iopub.execute_input": "2022-10-15T17:30:30.531153Z",
     "iopub.status.busy": "2022-10-15T17:30:30.530536Z",
     "iopub.status.idle": "2022-10-15T17:30:30.544518Z",
     "shell.execute_reply": "2022-10-15T17:30:30.542561Z"
    },
    "papermill": {
     "duration": 0.024671,
     "end_time": "2022-10-15T17:30:30.546448",
     "exception": false,
     "start_time": "2022-10-15T17:30:30.521777",
     "status": "completed"
    },
    "tags": []
   },
   "outputs": [
    {
     "data": {
      "application/javascript": [
       "parent.postMessage({\"jupyterEvent\": \"custom.exercise_interaction\", \"data\": {\"outcomeType\": 1, \"valueTowardsCompletion\": 0.3333333333333333, \"interactionType\": 1, \"questionType\": 1, \"questionId\": \"1_LoadData\", \"learnToolsVersion\": \"0.3.4\", \"failureMessage\": \"\", \"exceptionClass\": \"\", \"trace\": \"\"}}, \"*\")"
      ],
      "text/plain": [
       "<IPython.core.display.Javascript object>"
      ]
     },
     "metadata": {},
     "output_type": "display_data"
    },
    {
     "data": {
      "text/markdown": [
       "<span style=\"color:#33cc33\">Correct</span>"
      ],
      "text/plain": [
       "Correct"
      ]
     },
     "metadata": {},
     "output_type": "display_data"
    }
   ],
   "source": [
    "# Path of the file to read\n",
    "candy_filepath = \"../input/candy.csv\"\n",
    "\n",
    "# Fill in the line below to read the file into a variable candy_data\n",
    "candy_data = pd.read_csv(candy_filepath, index_col=\"id\")\n",
    "\n",
    "# Run the line below with no changes to check that you've loaded the data correctly\n",
    "step_1.check()"
   ]
  },
  {
   "cell_type": "code",
   "execution_count": 4,
   "id": "4c24f863",
   "metadata": {
    "execution": {
     "iopub.execute_input": "2022-10-15T17:30:30.562657Z",
     "iopub.status.busy": "2022-10-15T17:30:30.561818Z",
     "iopub.status.idle": "2022-10-15T17:30:30.566987Z",
     "shell.execute_reply": "2022-10-15T17:30:30.565574Z"
    },
    "papermill": {
     "duration": 0.015514,
     "end_time": "2022-10-15T17:30:30.569238",
     "exception": false,
     "start_time": "2022-10-15T17:30:30.553724",
     "status": "completed"
    },
    "tags": []
   },
   "outputs": [],
   "source": [
    "# Lines below will give you a hint or solution code\n",
    "#step_1.hint()\n",
    "#step_1.solution()"
   ]
  },
  {
   "cell_type": "markdown",
   "id": "1445d715",
   "metadata": {
    "papermill": {
     "duration": 0.006634,
     "end_time": "2022-10-15T17:30:30.583270",
     "exception": false,
     "start_time": "2022-10-15T17:30:30.576636",
     "status": "completed"
    },
    "tags": []
   },
   "source": [
    "## Step 2: Review the data\n",
    "\n",
    "Use a Python command to print the first five rows of the data."
   ]
  },
  {
   "cell_type": "code",
   "execution_count": 5,
   "id": "e97719d6",
   "metadata": {
    "execution": {
     "iopub.execute_input": "2022-10-15T17:30:30.599141Z",
     "iopub.status.busy": "2022-10-15T17:30:30.598457Z",
     "iopub.status.idle": "2022-10-15T17:30:30.621389Z",
     "shell.execute_reply": "2022-10-15T17:30:30.619784Z"
    },
    "papermill": {
     "duration": 0.033315,
     "end_time": "2022-10-15T17:30:30.623430",
     "exception": false,
     "start_time": "2022-10-15T17:30:30.590115",
     "status": "completed"
    },
    "tags": []
   },
   "outputs": [
    {
     "data": {
      "text/html": [
       "<div>\n",
       "<style scoped>\n",
       "    .dataframe tbody tr th:only-of-type {\n",
       "        vertical-align: middle;\n",
       "    }\n",
       "\n",
       "    .dataframe tbody tr th {\n",
       "        vertical-align: top;\n",
       "    }\n",
       "\n",
       "    .dataframe thead th {\n",
       "        text-align: right;\n",
       "    }\n",
       "</style>\n",
       "<table border=\"1\" class=\"dataframe\">\n",
       "  <thead>\n",
       "    <tr style=\"text-align: right;\">\n",
       "      <th></th>\n",
       "      <th>competitorname</th>\n",
       "      <th>chocolate</th>\n",
       "      <th>fruity</th>\n",
       "      <th>caramel</th>\n",
       "      <th>peanutyalmondy</th>\n",
       "      <th>nougat</th>\n",
       "      <th>crispedricewafer</th>\n",
       "      <th>hard</th>\n",
       "      <th>bar</th>\n",
       "      <th>pluribus</th>\n",
       "      <th>sugarpercent</th>\n",
       "      <th>pricepercent</th>\n",
       "      <th>winpercent</th>\n",
       "    </tr>\n",
       "    <tr>\n",
       "      <th>id</th>\n",
       "      <th></th>\n",
       "      <th></th>\n",
       "      <th></th>\n",
       "      <th></th>\n",
       "      <th></th>\n",
       "      <th></th>\n",
       "      <th></th>\n",
       "      <th></th>\n",
       "      <th></th>\n",
       "      <th></th>\n",
       "      <th></th>\n",
       "      <th></th>\n",
       "      <th></th>\n",
       "    </tr>\n",
       "  </thead>\n",
       "  <tbody>\n",
       "    <tr>\n",
       "      <th>0</th>\n",
       "      <td>100 Grand</td>\n",
       "      <td>Yes</td>\n",
       "      <td>No</td>\n",
       "      <td>Yes</td>\n",
       "      <td>No</td>\n",
       "      <td>No</td>\n",
       "      <td>Yes</td>\n",
       "      <td>No</td>\n",
       "      <td>Yes</td>\n",
       "      <td>No</td>\n",
       "      <td>0.732</td>\n",
       "      <td>0.860</td>\n",
       "      <td>66.971725</td>\n",
       "    </tr>\n",
       "    <tr>\n",
       "      <th>1</th>\n",
       "      <td>3 Musketeers</td>\n",
       "      <td>Yes</td>\n",
       "      <td>No</td>\n",
       "      <td>No</td>\n",
       "      <td>No</td>\n",
       "      <td>Yes</td>\n",
       "      <td>No</td>\n",
       "      <td>No</td>\n",
       "      <td>Yes</td>\n",
       "      <td>No</td>\n",
       "      <td>0.604</td>\n",
       "      <td>0.511</td>\n",
       "      <td>67.602936</td>\n",
       "    </tr>\n",
       "    <tr>\n",
       "      <th>2</th>\n",
       "      <td>Air Heads</td>\n",
       "      <td>No</td>\n",
       "      <td>Yes</td>\n",
       "      <td>No</td>\n",
       "      <td>No</td>\n",
       "      <td>No</td>\n",
       "      <td>No</td>\n",
       "      <td>No</td>\n",
       "      <td>No</td>\n",
       "      <td>No</td>\n",
       "      <td>0.906</td>\n",
       "      <td>0.511</td>\n",
       "      <td>52.341465</td>\n",
       "    </tr>\n",
       "    <tr>\n",
       "      <th>3</th>\n",
       "      <td>Almond Joy</td>\n",
       "      <td>Yes</td>\n",
       "      <td>No</td>\n",
       "      <td>No</td>\n",
       "      <td>Yes</td>\n",
       "      <td>No</td>\n",
       "      <td>No</td>\n",
       "      <td>No</td>\n",
       "      <td>Yes</td>\n",
       "      <td>No</td>\n",
       "      <td>0.465</td>\n",
       "      <td>0.767</td>\n",
       "      <td>50.347546</td>\n",
       "    </tr>\n",
       "    <tr>\n",
       "      <th>4</th>\n",
       "      <td>Baby Ruth</td>\n",
       "      <td>Yes</td>\n",
       "      <td>No</td>\n",
       "      <td>Yes</td>\n",
       "      <td>Yes</td>\n",
       "      <td>Yes</td>\n",
       "      <td>No</td>\n",
       "      <td>No</td>\n",
       "      <td>Yes</td>\n",
       "      <td>No</td>\n",
       "      <td>0.604</td>\n",
       "      <td>0.767</td>\n",
       "      <td>56.914547</td>\n",
       "    </tr>\n",
       "  </tbody>\n",
       "</table>\n",
       "</div>"
      ],
      "text/plain": [
       "   competitorname chocolate fruity caramel peanutyalmondy nougat  \\\n",
       "id                                                                 \n",
       "0       100 Grand       Yes     No     Yes             No     No   \n",
       "1    3 Musketeers       Yes     No      No             No    Yes   \n",
       "2       Air Heads        No    Yes      No             No     No   \n",
       "3      Almond Joy       Yes     No      No            Yes     No   \n",
       "4       Baby Ruth       Yes     No     Yes            Yes    Yes   \n",
       "\n",
       "   crispedricewafer hard  bar pluribus  sugarpercent  pricepercent  winpercent  \n",
       "id                                                                              \n",
       "0               Yes   No  Yes       No         0.732         0.860   66.971725  \n",
       "1                No   No  Yes       No         0.604         0.511   67.602936  \n",
       "2                No   No   No       No         0.906         0.511   52.341465  \n",
       "3                No   No  Yes       No         0.465         0.767   50.347546  \n",
       "4                No   No  Yes       No         0.604         0.767   56.914547  "
      ]
     },
     "execution_count": 5,
     "metadata": {},
     "output_type": "execute_result"
    }
   ],
   "source": [
    "# Print the first five rows of the data\n",
    "candy_data.head()# Your code here"
   ]
  },
  {
   "cell_type": "markdown",
   "id": "95684c59",
   "metadata": {
    "papermill": {
     "duration": 0.007347,
     "end_time": "2022-10-15T17:30:30.638551",
     "exception": false,
     "start_time": "2022-10-15T17:30:30.631204",
     "status": "completed"
    },
    "tags": []
   },
   "source": [
    "The dataset contains 83 rows, where each corresponds to a different candy bar.  There are 13 columns:\n",
    "- `'competitorname'` contains the name of the candy bar. \n",
    "- the next **9** columns (from `'chocolate'` to `'pluribus'`) describe the candy.  For instance, rows with chocolate candies have `\"Yes\"` in the `'chocolate'` column (and candies without chocolate have `\"No\"` in the same column).\n",
    "- `'sugarpercent'` provides some indication of the amount of sugar, where higher values signify higher sugar content.\n",
    "- `'pricepercent'` shows the price per unit, relative to the other candies in the dataset.\n",
    "- `'winpercent'` is calculated from the survey results; higher values indicate that the candy was more popular with survey respondents.\n",
    "\n",
    "Use the first five rows of the data to answer the questions below."
   ]
  },
  {
   "cell_type": "code",
   "execution_count": 6,
   "id": "f0a1f2c3",
   "metadata": {
    "execution": {
     "iopub.execute_input": "2022-10-15T17:30:30.655740Z",
     "iopub.status.busy": "2022-10-15T17:30:30.655407Z",
     "iopub.status.idle": "2022-10-15T17:30:30.663777Z",
     "shell.execute_reply": "2022-10-15T17:30:30.662193Z"
    },
    "papermill": {
     "duration": 0.019442,
     "end_time": "2022-10-15T17:30:30.665879",
     "exception": false,
     "start_time": "2022-10-15T17:30:30.646437",
     "status": "completed"
    },
    "tags": []
   },
   "outputs": [
    {
     "data": {
      "application/javascript": [
       "parent.postMessage({\"jupyterEvent\": \"custom.exercise_interaction\", \"data\": {\"outcomeType\": 1, \"valueTowardsCompletion\": 0.3333333333333333, \"interactionType\": 1, \"questionType\": 1, \"questionId\": \"2_ReviewData\", \"learnToolsVersion\": \"0.3.4\", \"failureMessage\": \"\", \"exceptionClass\": \"\", \"trace\": \"\"}}, \"*\")"
      ],
      "text/plain": [
       "<IPython.core.display.Javascript object>"
      ]
     },
     "metadata": {},
     "output_type": "display_data"
    },
    {
     "data": {
      "text/markdown": [
       "<span style=\"color:#33cc33\">Correct</span>"
      ],
      "text/plain": [
       "Correct"
      ]
     },
     "metadata": {},
     "output_type": "display_data"
    }
   ],
   "source": [
    "# Fill in the line below: Which candy was more popular with survey respondents:\n",
    "# '3 Musketeers' or 'Almond Joy'?  (Please enclose your answer in single quotes.)\n",
    "more_popular = '3 Musketeers'\n",
    "\n",
    "# Fill in the line below: Which candy has higher sugar content: 'Air Heads'\n",
    "# or 'Baby Ruth'? (Please enclose your answer in single quotes.)\n",
    "more_sugar = 'Air Heads'\n",
    "\n",
    "# Check your answers\n",
    "step_2.check()"
   ]
  },
  {
   "cell_type": "code",
   "execution_count": 7,
   "id": "966f7e82",
   "metadata": {
    "execution": {
     "iopub.execute_input": "2022-10-15T17:30:30.683924Z",
     "iopub.status.busy": "2022-10-15T17:30:30.683350Z",
     "iopub.status.idle": "2022-10-15T17:30:30.687698Z",
     "shell.execute_reply": "2022-10-15T17:30:30.686725Z"
    },
    "papermill": {
     "duration": 0.0159,
     "end_time": "2022-10-15T17:30:30.689848",
     "exception": false,
     "start_time": "2022-10-15T17:30:30.673948",
     "status": "completed"
    },
    "tags": []
   },
   "outputs": [],
   "source": [
    "# Lines below will give you a hint or solution code\n",
    "#step_2.hint()\n",
    "#step_2.solution()"
   ]
  },
  {
   "cell_type": "markdown",
   "id": "7cd242f0",
   "metadata": {
    "papermill": {
     "duration": 0.007796,
     "end_time": "2022-10-15T17:30:30.706535",
     "exception": false,
     "start_time": "2022-10-15T17:30:30.698739",
     "status": "completed"
    },
    "tags": []
   },
   "source": [
    "## Step 3: The role of sugar\n",
    "\n",
    "Do people tend to prefer candies with higher sugar content?  \n",
    "\n",
    "#### Part A\n",
    "\n",
    "Create a scatter plot that shows the relationship between `'sugarpercent'` (on the horizontal x-axis) and `'winpercent'` (on the vertical y-axis).  _Don't add a regression line just yet -- you'll do that in the next step!_"
   ]
  },
  {
   "cell_type": "code",
   "execution_count": 8,
   "id": "185cbf49",
   "metadata": {
    "execution": {
     "iopub.execute_input": "2022-10-15T17:30:30.724667Z",
     "iopub.status.busy": "2022-10-15T17:30:30.724309Z",
     "iopub.status.idle": "2022-10-15T17:30:30.936327Z",
     "shell.execute_reply": "2022-10-15T17:30:30.934257Z"
    },
    "papermill": {
     "duration": 0.224182,
     "end_time": "2022-10-15T17:30:30.938961",
     "exception": false,
     "start_time": "2022-10-15T17:30:30.714779",
     "status": "completed"
    },
    "tags": []
   },
   "outputs": [
    {
     "data": {
      "application/javascript": [
       "parent.postMessage({\"jupyterEvent\": \"custom.exercise_interaction\", \"data\": {\"outcomeType\": 1, \"valueTowardsCompletion\": 0.3333333333333333, \"interactionType\": 1, \"questionType\": 2, \"questionId\": \"3.1_PlotBlueScatter\", \"learnToolsVersion\": \"0.3.4\", \"failureMessage\": \"\", \"exceptionClass\": \"\", \"trace\": \"\"}}, \"*\")"
      ],
      "text/plain": [
       "<IPython.core.display.Javascript object>"
      ]
     },
     "metadata": {},
     "output_type": "display_data"
    },
    {
     "data": {
      "text/markdown": [
       "<span style=\"color:#33cc33\">Correct</span>"
      ],
      "text/plain": [
       "Correct"
      ]
     },
     "metadata": {},
     "output_type": "display_data"
    },
    {
     "data": {
      "image/png": "[encoded data removed]",
      "text/plain": [
       "<Figure size 432x288 with 1 Axes>"
      ]
     },
     "metadata": {
      "needs_background": "light"
     },
     "output_type": "display_data"
    }
   ],
   "source": [
    "# Scatter plot showing the relationship between 'sugarpercent' and 'winpercent'\n",
    "sns.scatterplot(x=candy_data[\"sugarpercent\"], y=candy_data[\"winpercent\"]) # Your code here\n",
    "\n",
    "# Check your answer\n",
    "step_3.a.check()"
   ]
  },
  {
   "cell_type": "code",
   "execution_count": 9,
   "id": "8a263f82",
   "metadata": {
    "execution": {
     "iopub.execute_input": "2022-10-15T17:30:30.957901Z",
     "iopub.status.busy": "2022-10-15T17:30:30.957541Z",
     "iopub.status.idle": "2022-10-15T17:30:30.962639Z",
     "shell.execute_reply": "2022-10-15T17:30:30.961109Z"
    },
    "papermill": {
     "duration": 0.017707,
     "end_time": "2022-10-15T17:30:30.965302",
     "exception": false,
     "start_time": "2022-10-15T17:30:30.947595",
     "status": "completed"
    },
    "tags": []
   },
   "outputs": [],
   "source": [
    "# Lines below will give you a hint or solution code\n",
    "#step_3.a.hint()\n",
    "#step_3.a.solution_plot()"
   ]
  },
  {
   "cell_type": "markdown",
   "id": "da5f21c8",
   "metadata": {
    "papermill": {
     "duration": 0.008132,
     "end_time": "2022-10-15T17:30:30.982313",
     "exception": false,
     "start_time": "2022-10-15T17:30:30.974181",
     "status": "completed"
    },
    "tags": []
   },
   "source": [
    "#### Part B\n",
    "\n",
    "Does the scatter plot show a **strong** correlation between the two variables?  If so, are candies with more sugar relatively more or less popular with the survey respondents?"
   ]
  },
  {
   "cell_type": "code",
   "execution_count": 10,
   "id": "5740d456",
   "metadata": {
    "execution": {
     "iopub.execute_input": "2022-10-15T17:30:31.001804Z",
     "iopub.status.busy": "2022-10-15T17:30:31.001471Z",
     "iopub.status.idle": "2022-10-15T17:30:31.005615Z",
     "shell.execute_reply": "2022-10-15T17:30:31.004803Z"
    },
    "papermill": {
     "duration": 0.015857,
     "end_time": "2022-10-15T17:30:31.007112",
     "exception": false,
     "start_time": "2022-10-15T17:30:30.991255",
     "status": "completed"
    },
    "tags": []
   },
   "outputs": [],
   "source": [
    "#step_3.b.hint()"
   ]
  },
  {
   "cell_type": "code",
   "execution_count": 11,
   "id": "2c9cf53d",
   "metadata": {
    "execution": {
     "iopub.execute_input": "2022-10-15T17:30:31.025910Z",
     "iopub.status.busy": "2022-10-15T17:30:31.025360Z",
     "iopub.status.idle": "2022-10-15T17:30:31.033923Z",
     "shell.execute_reply": "2022-10-15T17:30:31.032261Z"
    },
    "papermill": {
     "duration": 0.021262,
     "end_time": "2022-10-15T17:30:31.036740",
     "exception": false,
     "start_time": "2022-10-15T17:30:31.015478",
     "status": "completed"
    },
    "tags": []
   },
   "outputs": [
    {
     "data": {
      "application/javascript": [
       "parent.postMessage({\"jupyterEvent\": \"custom.exercise_interaction\", \"data\": {\"interactionType\": 3, \"questionType\": 4, \"questionId\": \"3.2_ThinkBlueScatter\", \"learnToolsVersion\": \"0.3.4\", \"valueTowardsCompletion\": 0.0, \"failureMessage\": \"\", \"exceptionClass\": \"\", \"trace\": \"\", \"outcomeType\": 4}}, \"*\")"
      ],
      "text/plain": [
       "<IPython.core.display.Javascript object>"
      ]
     },
     "metadata": {},
     "output_type": "display_data"
    },
    {
     "data": {
      "text/markdown": [
       "<span style=\"color:#33cc99\">Solution:</span> The scatter plot does not show a strong correlation between the two variables. Since there is no clear relationship between the two variables, this tells us that sugar content does not play a strong role in candy popularity."
      ],
      "text/plain": [
       "Solution: The scatter plot does not show a strong correlation between the two variables. Since there is no clear relationship between the two variables, this tells us that sugar content does not play a strong role in candy popularity."
      ]
     },
     "metadata": {},
     "output_type": "display_data"
    }
   ],
   "source": [
    "# Check your answer (Run this code cell to receive credit!)\n",
    "step_3.b.solution()"
   ]
  },
  {
   "cell_type": "markdown",
   "id": "ec9fad78",
   "metadata": {
    "papermill": {
     "duration": 0.009713,
     "end_time": "2022-10-15T17:30:31.055464",
     "exception": false,
     "start_time": "2022-10-15T17:30:31.045751",
     "status": "completed"
    },
    "tags": []
   },
   "source": [
    "## Step 4: Take a closer look\n",
    "\n",
    "#### Part A\n",
    "\n",
    "Create the same scatter plot you created in **Step 3**, but now with a regression line!"
   ]
  },
  {
   "cell_type": "code",
   "execution_count": 12,
   "id": "21451c7b",
   "metadata": {
    "execution": {
     "iopub.execute_input": "2022-10-15T17:30:31.075376Z",
     "iopub.status.busy": "2022-10-15T17:30:31.075015Z",
     "iopub.status.idle": "2022-10-15T17:30:31.316403Z",
     "shell.execute_reply": "2022-10-15T17:30:31.314615Z"
    },
    "papermill": {
     "duration": 0.254371,
     "end_time": "2022-10-15T17:30:31.319213",
     "exception": false,
     "start_time": "2022-10-15T17:30:31.064842",
     "status": "completed"
    },
    "tags": []
   },
   "outputs": [
    {
     "data": {
      "application/javascript": [
       "parent.postMessage({\"jupyterEvent\": \"custom.exercise_interaction\", \"data\": {\"outcomeType\": 1, \"valueTowardsCompletion\": 0.3333333333333333, \"interactionType\": 1, \"questionType\": 2, \"questionId\": \"4.1_PlotBlueReg\", \"learnToolsVersion\": \"0.3.4\", \"failureMessage\": \"\", \"exceptionClass\": \"\", \"trace\": \"\"}}, \"*\")"
      ],
      "text/plain": [
       "<IPython.core.display.Javascript object>"
      ]
     },
     "metadata": {},
     "output_type": "display_data"
    },
    {
     "data": {
      "text/markdown": [
       "<span style=\"color:#33cc33\">Correct</span>"
      ],
      "text/plain": [
       "Correct"
      ]
     },
     "metadata": {},
     "output_type": "display_data"
    },
    {
     "data": {
      "image/png": "[encoded data removed]",
      "text/plain": [
       "<Figure size 432x288 with 1 Axes>"
      ]
     },
     "metadata": {
      "needs_background": "light"
     },
     "output_type": "display_data"
    }
   ],
   "source": [
    "# Scatter plot w/ regression line showing the relationship between 'sugarpercent' and 'winpercent'\n",
    "sns.regplot(x=candy_data[\"sugarpercent\"], y=candy_data[\"winpercent\"]) # Your code here\n",
    "\n",
    "# Check your answer\n",
    "step_4.a.check()"
   ]
  },
  {
   "cell_type": "code",
   "execution_count": 13,
   "id": "9de40730",
   "metadata": {
    "execution": {
     "iopub.execute_input": "2022-10-15T17:30:31.344400Z",
     "iopub.status.busy": "2022-10-15T17:30:31.344060Z",
     "iopub.status.idle": "2022-10-15T17:30:31.349422Z",
     "shell.execute_reply": "2022-10-15T17:30:31.347585Z"
    },
    "papermill": {
     "duration": 0.022289,
     "end_time": "2022-10-15T17:30:31.351776",
     "exception": false,
     "start_time": "2022-10-15T17:30:31.329487",
     "status": "completed"
    },
    "tags": []
   },
   "outputs": [],
   "source": [
    "# Lines below will give you a hint or solution code\n",
    "#step_4.a.hint()\n",
    "#step_4.a.solution_plot()"
   ]
  },
  {
   "cell_type": "markdown",
   "id": "3ff4d914",
   "metadata": {
    "papermill": {
     "duration": 0.008696,
     "end_time": "2022-10-15T17:30:31.370195",
     "exception": false,
     "start_time": "2022-10-15T17:30:31.361499",
     "status": "completed"
    },
    "tags": []
   },
   "source": [
    "#### Part B\n",
    "\n",
    "According to the plot above, is there a **slight** correlation between `'winpercent'` and `'sugarpercent'`?  What does this tell you about the candy that people tend to prefer?"
   ]
  },
  {
   "cell_type": "code",
   "execution_count": 14,
   "id": "2e5f1303",
   "metadata": {
    "execution": {
     "iopub.execute_input": "2022-10-15T17:30:31.390527Z",
     "iopub.status.busy": "2022-10-15T17:30:31.390193Z",
     "iopub.status.idle": "2022-10-15T17:30:31.394517Z",
     "shell.execute_reply": "2022-10-15T17:30:31.393681Z"
    },
    "papermill": {
     "duration": 0.017181,
     "end_time": "2022-10-15T17:30:31.396884",
     "exception": false,
     "start_time": "2022-10-15T17:30:31.379703",
     "status": "completed"
    },
    "tags": []
   },
   "outputs": [],
   "source": [
    "#step_4.b.hint()"
   ]
  },
  {
   "cell_type": "code",
   "execution_count": 15,
   "id": "df5a6fc5",
   "metadata": {
    "execution": {
     "iopub.execute_input": "2022-10-15T17:30:31.416847Z",
     "iopub.status.busy": "2022-10-15T17:30:31.416405Z",
     "iopub.status.idle": "2022-10-15T17:30:31.422714Z",
     "shell.execute_reply": "2022-10-15T17:30:31.421292Z"
    },
    "papermill": {
     "duration": 0.018708,
     "end_time": "2022-10-15T17:30:31.424819",
     "exception": false,
     "start_time": "2022-10-15T17:30:31.406111",
     "status": "completed"
    },
    "tags": []
   },
   "outputs": [
    {
     "data": {
      "application/javascript": [
       "parent.postMessage({\"jupyterEvent\": \"custom.exercise_interaction\", \"data\": {\"interactionType\": 3, \"questionType\": 4, \"questionId\": \"4.2_ThinkBlueReg\", \"learnToolsVersion\": \"0.3.4\", \"valueTowardsCompletion\": 0.0, \"failureMessage\": \"\", \"exceptionClass\": \"\", \"trace\": \"\", \"outcomeType\": 4}}, \"*\")"
      ],
      "text/plain": [
       "<IPython.core.display.Javascript object>"
      ]
     },
     "metadata": {},
     "output_type": "display_data"
    },
    {
     "data": {
      "text/markdown": [
       "<span style=\"color:#33cc99\">Solution:</span> Since the regression line has a slightly positive slope, this tells us that there is a slightly positive correlation between `'winpercent'` and `'sugarpercent'`. Thus, people have a slight preference for candies containing relatively more sugar."
      ],
      "text/plain": [
       "Solution: Since the regression line has a slightly positive slope, this tells us that there is a slightly positive correlation between `'winpercent'` and `'sugarpercent'`. Thus, people have a slight preference for candies containing relatively more sugar."
      ]
     },
     "metadata": {},
     "output_type": "display_data"
    }
   ],
   "source": [
    "# Check your answer (Run this code cell to receive credit!)\n",
    "step_4.b.solution()"
   ]
  },
  {
   "cell_type": "markdown",
   "id": "e13944ba",
   "metadata": {
    "papermill": {
     "duration": 0.009175,
     "end_time": "2022-10-15T17:30:31.443431",
     "exception": false,
     "start_time": "2022-10-15T17:30:31.434256",
     "status": "completed"
    },
    "tags": []
   },
   "source": [
    "## Step 5: Chocolate!\n",
    "\n",
    "In the code cell below, create a scatter plot to show the relationship between `'pricepercent'` (on the horizontal x-axis) and `'winpercent'` (on the vertical y-axis). Use the `'chocolate'` column to color-code the points.  _Don't add any regression lines just yet -- you'll do that in the next step!_"
   ]
  },
  {
   "cell_type": "code",
   "execution_count": 16,
   "id": "ea9ad80a",
   "metadata": {
    "execution": {
     "iopub.execute_input": "2022-10-15T17:30:31.463556Z",
     "iopub.status.busy": "2022-10-15T17:30:31.463120Z",
     "iopub.status.idle": "2022-10-15T17:30:31.676064Z",
     "shell.execute_reply": "2022-10-15T17:30:31.674312Z"
    },
    "papermill": {
     "duration": 0.225319,
     "end_time": "2022-10-15T17:30:31.677990",
     "exception": false,
     "start_time": "2022-10-15T17:30:31.452671",
     "status": "completed"
    },
    "tags": []
   },
   "outputs": [
    {
     "data": {
      "application/javascript": [
       "parent.postMessage({\"jupyterEvent\": \"custom.exercise_interaction\", \"data\": {\"outcomeType\": 1, \"valueTowardsCompletion\": 0.3333333333333333, \"interactionType\": 1, \"questionType\": 2, \"questionId\": \"5_ColorScatter\", \"learnToolsVersion\": \"0.3.4\", \"failureMessage\": \"\", \"exceptionClass\": \"\", \"trace\": \"\"}}, \"*\")"
      ],
      "text/plain": [
       "<IPython.core.display.Javascript object>"
      ]
     },
     "metadata": {},
     "output_type": "display_data"
    },
    {
     "data": {
      "text/markdown": [
       "<span style=\"color:#33cc33\">Correct</span>"
      ],
      "text/plain": [
       "Correct"
      ]
     },
     "metadata": {},
     "output_type": "display_data"
    },
    {
     "data": {
      "image/png": "[encoded data removed]",
      "text/plain": [
       "<Figure size 432x288 with 1 Axes>"
      ]
     },
     "metadata": {
      "needs_background": "light"
     },
     "output_type": "display_data"
    }
   ],
   "source": [
    "# Scatter plot showing the relationship between 'pricepercent', 'winpercent', and 'chocolate'\n",
    "sns.scatterplot(x=candy_data[\"pricepercent\"], y=candy_data[\"winpercent\"], hue=candy_data[\"chocolate\"]) # Your code here\n",
    "\n",
    "# Check your answer\n",
    "step_5.check()"
   ]
  },
  {
   "cell_type": "code",
   "execution_count": 17,
   "id": "8c1c40ee",
   "metadata": {
    "execution": {
     "iopub.execute_input": "2022-10-15T17:30:31.700413Z",
     "iopub.status.busy": "2022-10-15T17:30:31.699973Z",
     "iopub.status.idle": "2022-10-15T17:30:31.705100Z",
     "shell.execute_reply": "2022-10-15T17:30:31.704179Z"
    },
    "papermill": {
     "duration": 0.019664,
     "end_time": "2022-10-15T17:30:31.707921",
     "exception": false,
     "start_time": "2022-10-15T17:30:31.688257",
     "status": "completed"
    },
    "tags": []
   },
   "outputs": [],
   "source": [
    "# Lines below will give you a hint or solution code\n",
    "#step_5.hint()\n",
    "#step_5.solution_plot()"
   ]
  },
  {
   "cell_type": "markdown",
   "id": "6c1c3e6d",
   "metadata": {
    "papermill": {
     "duration": 0.009914,
     "end_time": "2022-10-15T17:30:31.729891",
     "exception": false,
     "start_time": "2022-10-15T17:30:31.719977",
     "status": "completed"
    },
    "tags": []
   },
   "source": [
    "Can you see any interesting patterns in the scatter plot?  We'll investigate this plot further  by adding regression lines in the next step!\n",
    "\n",
    "## Step 6: Investigate chocolate\n",
    "\n",
    "#### Part A\n",
    "\n",
    "Create the same scatter plot you created in **Step 5**, but now with two regression lines, corresponding to (1) chocolate candies and (2) candies without chocolate."
   ]
  },
  {
   "cell_type": "code",
   "execution_count": 18,
   "id": "f9e0536a",
   "metadata": {
    "execution": {
     "iopub.execute_input": "2022-10-15T17:30:31.750825Z",
     "iopub.status.busy": "2022-10-15T17:30:31.750510Z",
     "iopub.status.idle": "2022-10-15T17:30:32.239431Z",
     "shell.execute_reply": "2022-10-15T17:30:32.238061Z"
    },
    "papermill": {
     "duration": 0.502073,
     "end_time": "2022-10-15T17:30:32.241997",
     "exception": false,
     "start_time": "2022-10-15T17:30:31.739924",
     "status": "completed"
    },
    "tags": []
   },
   "outputs": [
    {
     "data": {
      "application/javascript": [
       "parent.postMessage({\"jupyterEvent\": \"custom.exercise_interaction\", \"data\": {\"outcomeType\": 1, \"valueTowardsCompletion\": 0.3333333333333333, \"interactionType\": 1, \"questionType\": 2, \"questionId\": \"6.1_PlotColorReg\", \"learnToolsVersion\": \"0.3.4\", \"failureMessage\": \"\", \"exceptionClass\": \"\", \"trace\": \"\"}}, \"*\")"
      ],
      "text/plain": [
       "<IPython.core.display.Javascript object>"
      ]
     },
     "metadata": {},
     "output_type": "display_data"
    },
    {
     "data": {
      "text/markdown": [
       "<span style=\"color:#33cc33\">Correct</span>"
      ],
      "text/plain": [
       "Correct"
      ]
     },
     "metadata": {},
     "output_type": "display_data"
    },
    {
     "data": {
      "image/png": "[encoded data removed]",
      "text/plain": [
       "<Figure size 416.375x360 with 1 Axes>"
      ]
     },
     "metadata": {
      "needs_background": "light"
     },
     "output_type": "display_data"
    }
   ],
   "source": [
    "# Color-coded scatter plot w/ regression lines\n",
    "sns.lmplot(data=candy_data, x=\"pricepercent\", y=\"winpercent\", hue=\"chocolate\") # Your code here\n",
    "\n",
    "# Check your answer\n",
    "step_6.a.check()"
   ]
  },
  {
   "cell_type": "code",
   "execution_count": 19,
   "id": "6b92cd8b",
   "metadata": {
    "execution": {
     "iopub.execute_input": "2022-10-15T17:30:32.265594Z",
     "iopub.status.busy": "2022-10-15T17:30:32.265178Z",
     "iopub.status.idle": "2022-10-15T17:30:32.271306Z",
     "shell.execute_reply": "2022-10-15T17:30:32.269471Z"
    },
    "papermill": {
     "duration": 0.020221,
     "end_time": "2022-10-15T17:30:32.273640",
     "exception": false,
     "start_time": "2022-10-15T17:30:32.253419",
     "status": "completed"
    },
    "tags": []
   },
   "outputs": [],
   "source": [
    "# Lines below will give you a hint or solution code\n",
    "#step_6.a.hint()\n",
    "#step_6.a.solution_plot()"
   ]
  },
  {
   "cell_type": "markdown",
   "id": "b631fdaa",
   "metadata": {
    "papermill": {
     "duration": 0.01102,
     "end_time": "2022-10-15T17:30:32.298302",
     "exception": false,
     "start_time": "2022-10-15T17:30:32.287282",
     "status": "completed"
    },
    "tags": []
   },
   "source": [
    "#### Part B\n",
    "\n",
    "Using the regression lines, what conclusions can you draw about the effects of chocolate and price on candy popularity?"
   ]
  },
  {
   "cell_type": "code",
   "execution_count": 20,
   "id": "240f52c7",
   "metadata": {
    "execution": {
     "iopub.execute_input": "2022-10-15T17:30:32.321385Z",
     "iopub.status.busy": "2022-10-15T17:30:32.321053Z",
     "iopub.status.idle": "2022-10-15T17:30:32.326449Z",
     "shell.execute_reply": "2022-10-15T17:30:32.325360Z"
    },
    "papermill": {
     "duration": 0.019192,
     "end_time": "2022-10-15T17:30:32.328265",
     "exception": false,
     "start_time": "2022-10-15T17:30:32.309073",
     "status": "completed"
    },
    "tags": []
   },
   "outputs": [],
   "source": [
    "#step_6.b.hint()"
   ]
  },
  {
   "cell_type": "code",
   "execution_count": 21,
   "id": "d4304dd1",
   "metadata": {
    "execution": {
     "iopub.execute_input": "2022-10-15T17:30:32.351945Z",
     "iopub.status.busy": "2022-10-15T17:30:32.351650Z",
     "iopub.status.idle": "2022-10-15T17:30:32.359449Z",
     "shell.execute_reply": "2022-10-15T17:30:32.357622Z"
    },
    "papermill": {
     "duration": 0.022334,
     "end_time": "2022-10-15T17:30:32.361977",
     "exception": false,
     "start_time": "2022-10-15T17:30:32.339643",
     "status": "completed"
    },
    "tags": []
   },
   "outputs": [
    {
     "data": {
      "application/javascript": [
       "parent.postMessage({\"jupyterEvent\": \"custom.exercise_interaction\", \"data\": {\"interactionType\": 3, \"questionType\": 4, \"questionId\": \"6.2_ThinkColorReg\", \"learnToolsVersion\": \"0.3.4\", \"valueTowardsCompletion\": 0.0, \"failureMessage\": \"\", \"exceptionClass\": \"\", \"trace\": \"\", \"outcomeType\": 4}}, \"*\")"
      ],
      "text/plain": [
       "<IPython.core.display.Javascript object>"
      ]
     },
     "metadata": {},
     "output_type": "display_data"
    },
    {
     "data": {
      "text/markdown": [
       "<span style=\"color:#33cc99\">Solution:</span> We'll begin with the regression line for chocolate candies. Since this line has a slightly positive slope, we can say that more expensive chocolate candies tend to be more popular (than relatively cheaper chocolate candies).  Likewise, since the regression line for candies without chocolate has a negative slope, we can say that if candies don't contain chocolate, they tend to be more popular when they are cheaper.  One important note, however, is that the dataset is quite small -- so we shouldn't invest too much trust in these patterns!  To inspire more confidence in the results, we should add more candies to the dataset."
      ],
      "text/plain": [
       "Solution: We'll begin with the regression line for chocolate candies. Since this line has a slightly positive slope, we can say that more expensive chocolate candies tend to be more popular (than relatively cheaper chocolate candies).  Likewise, since the regression line for candies without chocolate has a negative slope, we can say that if candies don't contain chocolate, they tend to be more popular when they are cheaper.  One important note, however, is that the dataset is quite small -- so we shouldn't invest too much trust in these patterns!  To inspire more confidence in the results, we should add more candies to the dataset."
      ]
     },
     "metadata": {},
     "output_type": "display_data"
    }
   ],
   "source": [
    "# Check your answer (Run this code cell to receive credit!)\n",
    "step_6.b.solution()"
   ]
  },
  {
   "cell_type": "markdown",
   "id": "bac59155",
   "metadata": {
    "papermill": {
     "duration": 0.010553,
     "end_time": "2022-10-15T17:30:32.383543",
     "exception": false,
     "start_time": "2022-10-15T17:30:32.372990",
     "status": "completed"
    },
    "tags": []
   },
   "source": [
    "## Step 7: Everybody loves chocolate.\n",
    "\n",
    "#### Part A\n",
    "\n",
    "Create a categorical scatter plot to highlight the relationship between `'chocolate'` and `'winpercent'`.  Put `'chocolate'` on the (horizontal) x-axis, and `'winpercent'` on the (vertical) y-axis."
   ]
  },
  {
   "cell_type": "code",
   "execution_count": 22,
   "id": "6f26c6fa",
   "metadata": {
    "execution": {
     "iopub.execute_input": "2022-10-15T17:30:32.406284Z",
     "iopub.status.busy": "2022-10-15T17:30:32.405931Z",
     "iopub.status.idle": "2022-10-15T17:30:32.557063Z",
     "shell.execute_reply": "2022-10-15T17:30:32.555857Z"
    },
    "papermill": {
     "duration": 0.166984,
     "end_time": "2022-10-15T17:30:32.560935",
     "exception": false,
     "start_time": "2022-10-15T17:30:32.393951",
     "status": "completed"
    },
    "tags": []
   },
   "outputs": [
    {
     "data": {
      "application/javascript": [
       "parent.postMessage({\"jupyterEvent\": \"custom.exercise_interaction\", \"data\": {\"outcomeType\": 1, \"valueTowardsCompletion\": 0.3333333333333333, \"interactionType\": 1, \"questionType\": 2, \"questionId\": \"7.1_PlotSwarm\", \"learnToolsVersion\": \"0.3.4\", \"failureMessage\": \"\", \"exceptionClass\": \"\", \"trace\": \"\"}}, \"*\")"
      ],
      "text/plain": [
       "<IPython.core.display.Javascript object>"
      ]
     },
     "metadata": {},
     "output_type": "display_data"
    },
    {
     "data": {
      "text/markdown": [
       "<span style=\"color:#33cc33\">Correct</span>"
      ],
      "text/plain": [
       "Correct"
      ]
     },
     "metadata": {},
     "output_type": "display_data"
    },
    {
     "data": {
      "image/png": "[encoded data removed]",
      "text/plain": [
       "<Figure size 432x288 with 1 Axes>"
      ]
     },
     "metadata": {
      "needs_background": "light"
     },
     "output_type": "display_data"
    }
   ],
   "source": [
    "# Scatter plot showing the relationship between 'chocolate' and 'winpercent'\n",
    "sns.swarmplot(x=candy_data[\"chocolate\"],y=candy_data[\"winpercent\"]) # Your code here\n",
    "\n",
    "# Check your answer\n",
    "step_7.a.check()"
   ]
  },
  {
   "cell_type": "code",
   "execution_count": 23,
   "id": "794a2331",
   "metadata": {
    "execution": {
     "iopub.execute_input": "2022-10-15T17:30:32.593862Z",
     "iopub.status.busy": "2022-10-15T17:30:32.593457Z",
     "iopub.status.idle": "2022-10-15T17:30:32.599296Z",
     "shell.execute_reply": "2022-10-15T17:30:32.598003Z"
    },
    "papermill": {
     "duration": 0.024878,
     "end_time": "2022-10-15T17:30:32.601972",
     "exception": false,
     "start_time": "2022-10-15T17:30:32.577094",
     "status": "completed"
    },
    "tags": []
   },
   "outputs": [],
   "source": [
    "# Lines below will give you a hint or solution code\n",
    "#step_7.a.hint()\n",
    "#step_7.a.solution_plot()"
   ]
  },
  {
   "cell_type": "markdown",
   "id": "00217e68",
   "metadata": {
    "papermill": {
     "duration": 0.019168,
     "end_time": "2022-10-15T17:30:32.632851",
     "exception": false,
     "start_time": "2022-10-15T17:30:32.613683",
     "status": "completed"
    },
    "tags": []
   },
   "source": [
    "#### Part B\n",
    "\n",
    "You decide to dedicate a section of your report to the fact that chocolate candies tend to be more popular than candies without chocolate.  Which plot is more appropriate to tell this story: the plot from **Step 6**, or the plot from **Step 7**?"
   ]
  },
  {
   "cell_type": "code",
   "execution_count": 24,
   "id": "4364e163",
   "metadata": {
    "execution": {
     "iopub.execute_input": "2022-10-15T17:30:32.657461Z",
     "iopub.status.busy": "2022-10-15T17:30:32.657062Z",
     "iopub.status.idle": "2022-10-15T17:30:32.662357Z",
     "shell.execute_reply": "2022-10-15T17:30:32.661110Z"
    },
    "papermill": {
     "duration": 0.020796,
     "end_time": "2022-10-15T17:30:32.664963",
     "exception": false,
     "start_time": "2022-10-15T17:30:32.644167",
     "status": "completed"
    },
    "tags": []
   },
   "outputs": [],
   "source": [
    "#step_7.b.hint()"
   ]
  },
  {
   "cell_type": "code",
   "execution_count": 25,
   "id": "eadd1f55",
   "metadata": {
    "execution": {
     "iopub.execute_input": "2022-10-15T17:30:32.690206Z",
     "iopub.status.busy": "2022-10-15T17:30:32.689804Z",
     "iopub.status.idle": "2022-10-15T17:30:32.699268Z",
     "shell.execute_reply": "2022-10-15T17:30:32.698065Z"
    },
    "papermill": {
     "duration": 0.025113,
     "end_time": "2022-10-15T17:30:32.702053",
     "exception": false,
     "start_time": "2022-10-15T17:30:32.676940",
     "status": "completed"
    },
    "tags": []
   },
   "outputs": [
    {
     "data": {
      "application/javascript": [
       "parent.postMessage({\"jupyterEvent\": \"custom.exercise_interaction\", \"data\": {\"interactionType\": 3, \"questionType\": 4, \"questionId\": \"7.2_ThinkSwarm\", \"learnToolsVersion\": \"0.3.4\", \"valueTowardsCompletion\": 0.0, \"failureMessage\": \"\", \"exceptionClass\": \"\", \"trace\": \"\", \"outcomeType\": 4}}, \"*\")"
      ],
      "text/plain": [
       "<IPython.core.display.Javascript object>"
      ]
     },
     "metadata": {},
     "output_type": "display_data"
    },
    {
     "data": {
      "text/markdown": [
       "<span style=\"color:#33cc99\">Solution:</span> In this case, the categorical scatter plot from **Step 7** is the more appropriate plot. While both plots tell the desired story, the plot from **Step 6** conveys far more information that could distract from the main point."
      ],
      "text/plain": [
       "Solution: In this case, the categorical scatter plot from **Step 7** is the more appropriate plot. While both plots tell the desired story, the plot from **Step 6** conveys far more information that could distract from the main point."
      ]
     },
     "metadata": {},
     "output_type": "display_data"
    }
   ],
   "source": [
    "# Check your answer (Run this code cell to receive credit!)\n",
    "step_7.b.solution()"
   ]
  },
  {
   "cell_type": "markdown",
   "id": "e3bca0d9",
   "metadata": {
    "papermill": {
     "duration": 0.015384,
     "end_time": "2022-10-15T17:30:32.729542",
     "exception": false,
     "start_time": "2022-10-15T17:30:32.714158",
     "status": "completed"
    },
    "tags": []
   },
   "source": [
    "## Keep going\n",
    "\n",
    "Explore **[histograms and density plots](https://www.kaggle.com/alexisbcook/distributions)**."
   ]
  },
  {
   "cell_type": "markdown",
   "id": "f0805b96",
   "metadata": {
    "papermill": {
     "duration": 0.012617,
     "end_time": "2022-10-15T17:30:32.759113",
     "exception": false,
     "start_time": "2022-10-15T17:30:32.746496",
     "status": "completed"
    },
    "tags": []
   },
   "source": [
    "---\n",
    "\n",
    "\n",
    "\n",
    "\n",
    "*Have questions or comments? Visit the [course discussion forum](https://www.kaggle.com/learn/data-visualization/discussion) to chat with other learners.*"
   ]
  }
 ],
 "metadata": {
  "kernelspec": {
   "display_name": "Python 3",
   "language": "python",
   "name": "python3"
  },
  "language_info": {
   "codemirror_mode": {
    "name": "ipython",
    "version": 3
   },
   "file_extension": ".py",
   "mimetype": "text/x-python",
   "name": "python",
   "nbconvert_exporter": "python",
   "pygments_lexer": "ipython3",
   "version": "3.7.12"
  },
  "papermill": {
   "default_parameters": {},
   "duration": 12.019234,
   "end_time": "2022-10-15T17:30:33.491708",
   "environment_variables": {},
   "exception": null,
   "input_path": "__notebook__.ipynb",
   "output_path": "__notebook__.ipynb",
   "parameters": {},
   "start_time": "2022-10-15T17:30:21.472474",
   "version": "2.3.4"
  }
 },
 "nbformat": 4,
 "nbformat_minor": 5
}
